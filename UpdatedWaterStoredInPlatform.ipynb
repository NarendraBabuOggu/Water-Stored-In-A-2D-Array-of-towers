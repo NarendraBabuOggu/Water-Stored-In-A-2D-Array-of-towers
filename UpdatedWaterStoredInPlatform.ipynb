{
 "cells": [
  {
   "cell_type": "code",
   "execution_count": 1,
   "metadata": {},
   "outputs": [],
   "source": [
    "import numpy as np\n",
    "from heapq import heappush, heappop"
   ]
  },
  {
   "cell_type": "code",
   "execution_count": 2,
   "metadata": {},
   "outputs": [],
   "source": [
    "def set_zero_flag(inp):\n",
    "    if((inp==0).any()):\n",
    "        zero_flag = 1\n",
    "    else:\n",
    "        zero_flag = 0\n",
    "    return zero_flag"
   ]
  },
  {
   "cell_type": "code",
   "execution_count": 3,
   "metadata": {},
   "outputs": [],
   "source": [
    "def adjust_drain(platform):\n",
    "    ind = np.argwhere(platform==0)\n",
    "    for l in range(ind.shape[0]):\n",
    "        drain_border = []\n",
    "        index = ind[l]\n",
    "        i,j = index[0],index[1]\n",
    "        x = [0, 0, 1, -1]\n",
    "        y = [1, -1, 0, 0]\n",
    "        for k in range(4):\n",
    "            if 0 <= i + x[k] < platform.shape[0] and 0 <= j + y[k] < platform.shape[1] :\n",
    "                drain_border.append(platform[i+x[k],j+y[k]])\n",
    "        platform[i,j] = min(drain_border)\n",
    "    return platform"
   ]
  },
  {
   "cell_type": "code",
   "execution_count": 4,
   "metadata": {},
   "outputs": [],
   "source": [
    "def Heap_Initialise(platform,visited,heaplist = []):\n",
    "    m,n = platform.shape[0], platform.shape[1]\n",
    "    for i in range(m):\n",
    "        for j in range(n):\n",
    "            if j in [0, n-1] or i in [0, m-1]:\n",
    "                heappush(heaplist, (platform[i][j], i, j))\n",
    "                visited[i][j] = 1\n",
    "    return heaplist,visited"
   ]
  },
  {
   "cell_type": "code",
   "execution_count": 5,
   "metadata": {},
   "outputs": [],
   "source": [
    "def modify_counts(platform,drain_platform,count):\n",
    "    s = platform.shape\n",
    "    for i in range(1,s[0]-1):\n",
    "        for j in range(1,s[1]-1):\n",
    "            x = [0, 0, 1, -1]\n",
    "            y = [1, -1, 0, 0]\n",
    "            for k in range(4):\n",
    "                if 0 <= i + x[k] < s[0] and 0 <= j + y[k] < s[1] and drain_platform[i + x[k],j + y[k]] == 0 and drain_platform[i,j] != 0:\n",
    "                    count[i,j] = count[i,j] - count[i + x[k],j + y[k]]\n",
    "    return count"
   ]
  },
  {
   "cell_type": "code",
   "execution_count": 6,
   "metadata": {},
   "outputs": [],
   "source": [
    "def Map_Drain_Towers(mod_inp):\n",
    "    #checks whether the tower is connected to drain or not\n",
    "    drain_platform = np.ones(mod_inp.shape,dtype='i4')#Platform to track the drain points\n",
    "    if(set_zero_flag(mod_inp)==1):\n",
    "        ind = np.argwhere(mod_inp==0)\n",
    "        for l in range(ind.shape[0]):\n",
    "            index = ind[l]\n",
    "            i,j = index[0],index[1]\n",
    "            drain_platform[i,j] = 0\n",
    "        for k in range(5):\n",
    "            for i in range(1,inp.shape[0]-1):\n",
    "                for j in range(1,inp.shape[1]-1):\n",
    "                    if ((drain_platform[i,j]!=0) and (mod_inp[i,j]>=mod_inp[i,j-1]) and (drain_platform[i,j-1]==0) ):\n",
    "                        drain_platform[i,j]=0\n",
    "                    if ((drain_platform[i,j]!=0) and (mod_inp[i,j]>=mod_inp[i,j+1]) and (drain_platform[i,j+1]==0) ):\n",
    "                        drain_platform[i,j]=0\n",
    "                    if ((drain_platform[i,j]!=0) and (mod_inp[i,j]>=mod_inp[i-1,j]) and (drain_platform[i-1,j]==0) ):\n",
    "                        drain_platform[i,j]=0\n",
    "                    if ((drain_platform[i,j]!=0) and (mod_inp[i,j]>=mod_inp[i+1,j]) and (drain_platform[i+1,j]==0) ):\n",
    "                        drain_platform[i,j]=0\n",
    "    return drain_platform"
   ]
  },
  {
   "cell_type": "code",
   "execution_count": 7,
   "metadata": {},
   "outputs": [],
   "source": [
    "def Water_Stored(platform,heap,visited):\n",
    "    if(set_zero_flag(platform)==1):\n",
    "        platform = adjust_drain(platform)\n",
    "    m,n = platform.shape[0], platform.shape[1]\n",
    "    count = np.zeros((m,n),dtype = 'i4')\n",
    "    if (platform.size <= 0): \n",
    "        return count\n",
    "    while heap:\n",
    "        height, i, j = heappop(heap)\n",
    "        #print(height, i, j)\n",
    "        x = [0, 0, 1, -1]\n",
    "        y = [1, -1, 0, 0]\n",
    "        for k in range(4):\n",
    "            if 0 <= i + x[k] < m and 0 <= j + y[k] < n and visited[i + x[k]][j + y[k]] == 0:\n",
    "                h = max(height, platform[i + x[k]][j + y[k]])\n",
    "                #print(height,platform[i+x[k]][j + y[k]])\n",
    "                heappush(heap, (h , i + x[k], j + y[k]))\n",
    "                count[i+x[k]][j + y[k]] += h - platform[i + x[k]][j + y[k]]\n",
    "                visited[i + x[k]][j + y[k]] = 1\n",
    "    return count"
   ]
  },
  {
   "cell_type": "code",
   "execution_count": 8,
   "metadata": {},
   "outputs": [],
   "source": [
    "def WaterStoredInPlatform(platform):\n",
    "    s = platform.shape\n",
    "    visited = np.zeros(s,dtype = 'i4')\n",
    "    heaplist, visited = Heap_Initialise(platform,visited) \n",
    "    drain_platform = Map_Drain_Towers(platform)\n",
    "    #print(drain_platform)\n",
    "    individ_counts = Water_Stored(platform,heaplist,visited)\n",
    "    individ_counts = modify_counts(platform,drain_platform,individ_counts)\n",
    "    actual_counts = individ_counts * drain_platform\n",
    "    #print(actual_counts)\n",
    "    return actual_counts.sum()"
   ]
  },
  {
   "cell_type": "code",
   "execution_count": 18,
   "metadata": {},
   "outputs": [
    {
     "name": "stdout",
     "output_type": "stream",
     "text": [
      "[]\n"
     ]
    },
    {
     "name": "stderr",
     "output_type": "stream",
     "text": [
      "C:\\Users\\NAGARAJU\\Miniconda3\\lib\\site-packages\\ipykernel_launcher.py:1: UserWarning: loadtxt: Empty input file: \"Platform_to_store_water.txt\"\n",
      "  \"\"\"Entry point for launching an IPython kernel.\n"
     ]
    },
    {
     "data": {
      "text/plain": [
       "0"
      ]
     },
     "execution_count": 18,
     "metadata": {},
     "output_type": "execute_result"
    }
   ],
   "source": [
    "inp = np.loadtxt('Platform_to_store_water.txt',delimiter=',',dtype = 'i4')\n",
    "print(inp)\n",
    "if 0 <= inp.ndim < 2:\n",
    "    WaterStored = 0\n",
    "else:\n",
    "    WaterStored = WaterStoredInPlatform(inp)\n",
    "WaterStored"
   ]
  }
 ],
 "metadata": {
  "kernelspec": {
   "display_name": "Python 3",
   "language": "python",
   "name": "python3"
  },
  "language_info": {
   "codemirror_mode": {
    "name": "ipython",
    "version": 3
   },
   "file_extension": ".py",
   "mimetype": "text/x-python",
   "name": "python",
   "nbconvert_exporter": "python",
   "pygments_lexer": "ipython3",
   "version": "3.6.8"
  }
 },
 "nbformat": 4,
 "nbformat_minor": 2
}
