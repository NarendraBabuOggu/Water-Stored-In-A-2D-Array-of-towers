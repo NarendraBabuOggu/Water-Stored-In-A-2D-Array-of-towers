{
 "cells": [
  {
   "cell_type": "code",
   "execution_count": 1,
   "metadata": {},
   "outputs": [],
   "source": [
    "import numpy as np"
   ]
  },
  {
   "cell_type": "code",
   "execution_count": 2,
   "metadata": {},
   "outputs": [],
   "source": [
    "def set_zero_flag(inp):\n",
    "    if((inp==0).any()):\n",
    "        zero_flag = 1\n",
    "    else:\n",
    "        zero_flag = 0\n",
    "    return zero_flag"
   ]
  },
  {
   "cell_type": "code",
   "execution_count": 3,
   "metadata": {},
   "outputs": [],
   "source": [
    "def water_stored_per_unit(narray1,narray2):\n",
    "    count =np.zeros(narray1.shape,dtype = 'i4')\n",
    "    cnt = np.zeros(4,dtype='i4')\n",
    "    for i in range(narray1.shape[0]):\n",
    "        for j in range(narray1.shape[1]):\n",
    "            #print(narray2[0:i,j+1])\n",
    "            cnt = np.zeros(4)\n",
    "            if(narray1[i,j]>0):\n",
    "                cnt[0] += ((narray2[:i+1,j+1]-narray1[i,j]).max())\n",
    "                cnt[2] += ((narray2[i+1,:j+1]-narray1[i,j]).max())\n",
    "                cnt[1] += (narray2[i+1,j+2:]-narray1[i,j]).max()\n",
    "                cnt[3] += (narray2[i+2:,j+1]-narray1[i,j]).max()\n",
    "            if np.size(cnt[cnt>0])>0:\n",
    "                count[i,j] = cnt[cnt>0].min()\n",
    "    return count"
   ]
  },
  {
   "cell_type": "code",
   "execution_count": 4,
   "metadata": {},
   "outputs": [],
   "source": [
    "def reduce_platform(narray):\n",
    "    n = np.shape(narray)\n",
    "    narray2 = np.zeros((n[0]-2,n[1]-2),dtype = 'i4')\n",
    "    for i in range(n[0]-2):\n",
    "        for j in range(n[1]-2):\n",
    "            narray2[i,j]=narray[i+1,j+1]\n",
    "    return narray2"
   ]
  },
  {
   "cell_type": "code",
   "execution_count": 5,
   "metadata": {},
   "outputs": [],
   "source": [
    "def modify_platform(inp):\n",
    "    s = inp.shape\n",
    "    if(s[0]<s[1]):\n",
    "        temp = np.repeat(inp[s[0]-1,:],s[1]-s[0]).reshape((s[1]-s[0],s[1]),order='F') \n",
    "        mod_inp = np.concatenate((inp,temp),axis = 0)\n",
    "    elif(s[0]>s[1]):\n",
    "        temp = np.repeat(inp[:,s[1]-1],s[0]-s[1]).reshape((s[0],s[0]-s[1]),order='F')\n",
    "        mod_inp = np.concatenate((inp,temp),axis = 1)\n",
    "    else:\n",
    "        mod_inp = inp\n",
    "    return mod_inp"
   ]
  },
  {
   "cell_type": "code",
   "execution_count": 17,
   "metadata": {},
   "outputs": [],
   "source": [
    "def map_drain_towers(mod_inp):\n",
    "    #checks whether the tower is connected to drain or not\n",
    "    drain_platform = np.ones(mod_inp.shape,dtype='i4')#Platform to track the drain points\n",
    "    if(set_zero_flag(mod_inp)==1):\n",
    "        ind = np.argwhere(mod_inp==0)\n",
    "        for l in range(ind.shape[0]):\n",
    "            index = ind[l]\n",
    "            i,j = index[0],index[1]\n",
    "            drain_platform[i,j] = 0\n",
    "        for i in range(1,inp.shape[0]-1):\n",
    "            for j in range(1,inp.shape[1]-1):\n",
    "                if ((drain_platform[i,j]!=0) and (mod_inp[i,j]>=mod_inp[i,j-1]) and (drain_platform[i,j-1]==0) ):\n",
    "                    drain_platform[i,j]=0\n",
    "                if ((drain_platform[i,j]!=0) and (mod_inp[i,j]>=mod_inp[i,j+1]) and (drain_platform[i,j+1]==0) ):\n",
    "                    drain_platform[i,j]=0\n",
    "                if ((drain_platform[i,j]!=0) and (mod_inp[i,j]>=mod_inp[i-1,j]) and (drain_platform[i-1,j]==0) ):\n",
    "                    drain_platform[i,j]=0\n",
    "                if ((drain_platform[i,j]!=0) and (mod_inp[i,j]>=mod_inp[i+1,j]) and (drain_platform[i+1,j]==0) ):\n",
    "                    drain_platform[i,j]=0\n",
    "    return drain_platform"
   ]
  },
  {
   "cell_type": "code",
   "execution_count": 23,
   "metadata": {},
   "outputs": [],
   "source": [
    "def WaterStoredInPlatform(platform):\n",
    "    s = platform.shape\n",
    "    mod_platform = modify_platform(platform)\n",
    "    drain_platform = map_drain_towers(mod_platform)\n",
    "    reduced_drain_platform = reduce_platform(drain_platform)\n",
    "    reduced_platform = reduce_platform(mod_platform)\n",
    "    individ_counts = water_stored_per_unit(reduced_platform,mod_platform)\n",
    "    mod_individ_counts = (reduced_drain_platform*individ_counts)\n",
    "    if(s[0]<s[1]):\n",
    "        mod_actual_counts = mod_individ_counts[:s[0]-s[1],:]\n",
    "    elif(s[0]>s[1]):\n",
    "        mod_actual_counts = mod_individ_counts[:,:s[1]-s[0]]\n",
    "    else:\n",
    "        mod_actual_counts = mod_individ_counts    \n",
    "    return mod_actual_counts.sum()"
   ]
  },
  {
   "cell_type": "code",
   "execution_count": 26,
   "metadata": {},
   "outputs": [
    {
     "data": {
      "text/plain": [
       "32"
      ]
     },
     "execution_count": 26,
     "metadata": {},
     "output_type": "execute_result"
    }
   ],
   "source": [
    "inp = np.array([[5,5,5,5,5],[9,1,1,1,5],[5,1,5,1,5],[5,1,1,1,5],[5,5,5,5,5]],dtype ='i4')\n",
    "water_stored = WaterStoredInPlatform(inp)\n",
    "water_stored"
   ]
  }
 ],
 "metadata": {
  "kernelspec": {
   "display_name": "Python 3",
   "language": "python",
   "name": "python3"
  },
  "language_info": {
   "codemirror_mode": {
    "name": "ipython",
    "version": 3
   },
   "file_extension": ".py",
   "mimetype": "text/x-python",
   "name": "python",
   "nbconvert_exporter": "python",
   "pygments_lexer": "ipython3",
   "version": "3.6.8"
  }
 },
 "nbformat": 4,
 "nbformat_minor": 2
}
